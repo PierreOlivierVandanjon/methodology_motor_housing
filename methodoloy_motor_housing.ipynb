{
    "cells": [
        {
            "cell_type": "markdown",
            "metadata": {},
            "source": "\n"
        },
        {
            "cell_type": "code",
            "execution_count": null,
            "metadata": {},
            "outputs": [],
            "source": [
                "knitr::opts_chunk$set(echo = TRUE,warning=TRUE)\n",
                "\n"
            ]
        },
        {
            "cell_type": "markdown",
            "metadata": {},
            "source": [
                "# Introduction\n",
                "\n",
                "Nous avions écrit un document pour montrer comment ajouter un revenu à une population synthétique, à partir de données aggrégées fournies par des déciles. Les relecteurs de Jasss n'ont pas vu que cette méthode pouvait s'appliquer dans des cas plus simples. Ce document présente  un cas \" jouet \" où la variable ajoutée est celle de la motorisation : c'est une variable binaire, plus simple que les revenus fournis sous forme de décomes/\n",
                "\n",
                "Ce document reprend le document \"Comparaison de deux Méthodologies pour attribuer un revenu aux ménages\" en l'adaptant à ce nouveau cas d'étude plus simple.\n",
                "\n",
                "\n",
                "Règles d'écriture :\n",
                "\n",
                "* les noms des scalaires sont en minuscule\n",
                "* les noms des objets de dimensions supérieurs commencent par une majuscule\n",
                "* les noms des fonctions commencent par deux majuscules\n",
                "\n",
                "# Le cas d'étude\n",
                "Nous générons une population synthétique avec trois catégories qualitatives age de la personne de référence,  taille du ménage et ménage motorisé ou pas. La taille de la population est n (n est un multiple de 100 000)\n",
                "\n",
                "Nous nous plaçons dans un cas où nous avons une population synthétique sans le taux de motorisation. Nous souhaitons ajouter à cette population synthétique la variable taux de motorisation en utilisant les données agrégées sur le taux motorisation par modalité d'age.\n",
                "\n",
                "Par exemple, en connassant les informations suivantes 26 % des moins de 30 ans sont motorisé, 87% des 30-6à ans et 77% des plus de 60 ans, comment ajouter un taux de motorisation à une population synthétique qui comprend deux catégories age et taille du ménage ?\n",
                "\n",
                "\n",
                "Pour cela, nous utilisons l'algorithme de maximisation de l'entropie tel qu'il est décrit dans notre article soumis à Jasss.\n",
                "\n",
                "\n",
                "L'objectif de la méthodologie est de retrouver la variable motorisée  à partir de la donnée de la population synthétique sans motorisation et les données agréggées de la motorisation pour chaque modalité de l'age\n",
                "\n",
                "\n",
                "Voici ce les étapes de ce travail\n",
                "\n",
                "* Nous construisons un tableau de contingence qui croisent toutes les modalités des trois variables et qui contient pour chaque modalité croisée la fréquences de ménages qui sont caractérisés par ces trois modalités,\n",
                "* la population synthétique est générée en répétant simplement ces fréquences multipliées par la taille  de la population synthétiques. Ces fréquences peuvent donc être vues comme des ipondi\n",
                "* Modélisatioon du problème : \n",
                "  * construction des matrices de contrainte\n",
                "  * vérification que le système est solvable\n",
                "  * résolution par l'algorithme de maximisation de l'entropie\n",
                "* Analyse des résultats en comparant les fréquences initiales du tableau de contingence et les probabilités qui maximisent l'entropie\n",
                "\n",
                "\n",
                "\n",
                "# Construction de la population synthétique avec son taux de motorisation\n",
                "\n",
                "## Tableau de contingence\n",
                "\n",
                "\n",
                "### Initialisation\n",
                "\n",
                "Il y a 3 modalités pour l'age de la personne de référence , 4 modalités pour la taille du ménage, 2 modalités pour la variable motorisation\n"
            ]
        },
        {
            "cell_type": "code",
            "execution_count": null,
            "metadata": {},
            "outputs": [],
            "source": [
                "M_a=c('moins_de_30ans', '30-60ans','plus_de_60ans') # Modalite age\n",
                "M_t=c('1', '2','3','4_et_plus') # Modalite taille\n",
                "M_m=c('yes','no') # Modalité motorisé ou pas \n",
                "na <- length(M_a)\n",
                "nt <- length(M_t)\n",
                "nm <- length(M_m)\n",
                "ndeg = na*nt*nm # nombre de degrés de liberté\n",
                "nmod = na+nt+nm # nombre de modalités\n",
                "\n",
                "\n",
                "C=expand.grid(a=M_a,t=M_t,m=M_m,p=0,r=0) # tableau de contingence\n",
                "n=100000 # N doit être divisible par 10000 pour éviter les erreurs d'arrondi\n",
                "print(C)\n"
            ]
        },
        {
            "cell_type": "markdown",
            "metadata": {},
            "source": [
                "###  Fréquence pour les ménages dont la personne de référence a entre 0 et 30 ans\n",
                "nous supposons que 20% des ménages ont la  personne de référence  qui a entre 0 et 30 ans,\n",
                "Ils sont motorisés à 10% quand ils sont seuls\n",
                "à 20 % quand ils sont deux\n",
                "à 50% quand ils sont trois\n",
                "à 60% quand  iks ont quatre\n"
            ]
        },
        {
            "cell_type": "code",
            "execution_count": null,
            "metadata": {},
            "outputs": [],
            "source": [
                "pa1=0.2 # proportion de personnes ayant l'age 1\n",
                "\n",
                "C[C$a==M_a[1] & C$t==M_t[1] & C$m==M_m[1],]$p=pa1*0.4*0.1\n",
                "C[C$a==M_a[1] & C$t==M_t[1] & C$m==M_m[2],]$p=pa1*0.4*0.9\n",
                "C[C$a==M_a[1] & C$t==M_t[2]  & C$m==M_m[1],]$p=pa1*0.3*0.2\n",
                "C[C$a==M_a[1] & C$t==M_t[2] & C$m==M_m[2],]$p=pa1*0.3*0.8\n",
                "C[C$a==M_a[1] & C$t==M_t[3] & C$m==M_m[1],]$p=pa1*0.2*0.5\n",
                "C[C$a==M_a[1] & C$t==M_t[3] & C$m==M_m[2],]$p=pa1*0.2*0.5\n",
                "C[C$a==M_a[1] & C$t==M_t[4] & C$m==M_m[1],]$p=pa1*0.1*0.6\n",
                "C[C$a==M_a[1] & C$t==M_t[4] & C$m==M_m[2],]$p=pa1*0.1*0.4\n",
                "print(C)\n"
            ]
        },
        {
            "cell_type": "markdown",
            "metadata": {},
            "source": [
                "###  Fréquence pour les ménages dont la personne de référence a entre 30 et 60 ans\n",
                "nous supposons que  70% des ménages ont la personne de référence qui a entre 30 et 60 ans\n",
                "Ils sont motorisés à 80% quand ils sont seuls\n",
                "à 90 % quand ils sont deux\n",
                "à 90% quand ils sont trois\n",
                "à 90% quand  isls ont quatre\n"
            ]
        },
        {
            "cell_type": "code",
            "execution_count": null,
            "metadata": {},
            "outputs": [],
            "source": [
                "pa2=0.7 # proportion de personnes ayant l'age 2\n",
                "\n",
                "C[C$a==M_a[2] & C$t==M_t[1] & C$m==M_m[1],]$p=pa2*0.3*0.80\n",
                "C[C$a==M_a[2] & C$t==M_t[1] & C$m==M_m[2],]$p=pa2*0.3*0.20\n",
                "C[C$a==M_a[2] & C$t==M_t[2]  & C$m==M_m[1],]$p=pa2*0.3*0.9\n",
                "C[C$a==M_a[2] & C$t==M_t[2] & C$m==M_m[2],]$p=pa2*0.3*0.1\n",
                "C[C$a==M_a[2] & C$t==M_t[3] & C$m==M_m[1],]$p=pa2*0.3*0.9\n",
                "C[C$a==M_a[2] & C$t==M_t[3] & C$m==M_m[2],]$p=pa2*0.3*0.1\n",
                "C[C$a==M_a[2] & C$t==M_t[4] & C$m==M_m[1],]$p=pa2*0.1*0.9\n",
                "C[C$a==M_a[2] & C$t==M_t[4] & C$m==M_m[2],]$p=pa2*0.1*0.1\n",
                "print(C)\n"
            ]
        },
        {
            "cell_type": "markdown",
            "metadata": {},
            "source": [
                "###  Fréquence pour les ménages dont la personne de référence a plus de 60 ans\n",
                "ils représentent 10% des ménages\n",
                "Ils sont motorisés à 70% quand ils sont seuls\n",
                "à 80 % quand ils sont deux\n",
                "à 80% quand ils sont trois\n",
                "à 90% quand  ils ont quatre\n"
            ]
        },
        {
            "cell_type": "code",
            "execution_count": null,
            "metadata": {},
            "outputs": [],
            "source": [
                "pa3=0.1 # proportion de personnes ayant l'age 3\n",
                "\n",
                "C[C$a==M_a[3] & C$t==M_t[1] & C$m==M_m[1],]$p=pa3*4/10*0.7\n",
                "C[C$a==M_a[3] & C$t==M_t[1] & C$m==M_m[2],]$p=pa3*4/10*0.3\n",
                "C[C$a==M_a[3] & C$t==M_t[2] & C$m==M_m[1],]$p=pa3*4/10*0.8\n",
                "C[C$a==M_a[3] & C$t==M_t[2] & C$m==M_m[2],]$p=pa3*4/10*0.2\n",
                "C[C$a==M_a[3] & C$t==M_t[3] & C$m==M_m[1],]$p=pa3*1/10*0.8\n",
                "C[C$a==M_a[3] & C$t==M_t[3] & C$m==M_m[2],]$p=pa3*1/10*0.2\n",
                "C[C$a==M_a[3] & C$t==M_t[4] & C$m==M_m[1],]$p=pa3*1/10*0.9\n",
                "C[C$a==M_a[3] & C$t==M_t[4] & C$m==M_m[2],]$p=pa3*1/10*0.1\n",
                " print(C)\n"
            ]
        },
        {
            "cell_type": "markdown",
            "metadata": {},
            "source": [
                "## Population synthétique\n",
                "\n",
                "A partir du tableau de contingence, C, la population synthétique est construite en répétant les ménages\n"
            ]
        },
        {
            "cell_type": "code",
            "execution_count": null,
            "metadata": {},
            "outputs": [],
            "source": [
                "Popp=c();\n",
                "for (o in M_a) {\n",
                "  for (oo in M_t){\n",
                "    for (ooo in M_m){\n",
                "    nn = round(n*C[C$a==o & C$t==oo & C$m==ooo,]$p,0)\n",
                "    Poppp=cbind( c(rep(o,nn)), c(rep(oo,nn)), c(rep(ooo,nn)))\n",
                "    Popp=rbind(Popp, Poppp)\n",
                "    } # fin for ooo\n",
                "  } # fin for oo\n",
                "  } # fin for o\n",
                "Pop=data.frame(a=as.factor(Popp[,1]),t=as.factor(Popp[,2]),m=as.factor(Popp[,3]) )\n",
                "#print(Pop) # utilisé en test unitaire pour vérifier que les revenus sont biens fournis.\n"
            ]
        },
        {
            "cell_type": "markdown",
            "metadata": {},
            "source": [
                "# Modélisation du problème\n",
                "\n",
                "## Construction des contraintes\n",
                "\n",
                "### Contrainte sur les  données agrégées\n",
                "\n",
                "L'information fournie est une information agrégée sur le taux de motorisation par classe d'age.\n"
            ]
        },
        {
            "cell_type": "code",
            "execution_count": null,
            "metadata": {},
            "outputs": [],
            "source": [
                "D_agr=c(); # tableau des données agrégées analysable par un humain pour vérifier que le code est correct\n",
                "M_agr=c() ; # matrice des contraintes sur les probabilités pour la maximisation de l'entropie\n",
                "I_agr=c() ; # contraintes sur les données agréees pour la maC[C$a==M_a[1] & C$t==M_t[1] & C$m==M_m[1],]$p=pa1*0.4*0.1ximmisation de l'entropie, la contrainte s'écrit M_agr * p = I_agr\n",
                "motorise=M_m[1]\n",
                "non_motorise = M_m[2]\n",
                "for (p in M_a) {\n",
                "  nn=nrow(Pop[Pop$a==p,]) \n",
                "  D_agr=rbind(D_agr,cbind(p,nrow(Pop[Pop$a==p & Pop$m==motorise,])/nn))\n",
                "  \n",
                "  Ligne_m=c();\n",
                "  Ligne_nm=c();\n",
                "  for (o in M_a) {\n",
                "    for (oo in M_t){\n",
                "      for (ooo in M_m){\n",
                "        if (o==p) {\n",
                "          if (ooo==motorise) {\n",
                "             Ligne_m=cbind(Ligne_m,1)\n",
                "             Ligne_nm=cbind(Ligne_nm,0)\n",
                "          }\n",
                "          else {\n",
                "           Ligne_m=cbind(Ligne_m,0)\n",
                "           Ligne_nm=cbind(Ligne_nm,1)}}\n",
                "        else {\n",
                "             Ligne_m=cbind(Ligne_m,0)\n",
                "             Ligne_nm=cbind(Ligne_nm,0)\n",
                "          }\n",
                "      }# fin ooo\n",
                "    } # fin oo\n",
                "  } # fin o\n",
                "  M_agr=rbind(M_agr, Ligne_m, Ligne_nm);\n",
                "  probabilite_age_motorise= nrow(Pop[Pop$a==p & Pop$m==motorise,])/n ;\n",
                "  probabilite_age_non_motorise= nrow(Pop[Pop$a==p & Pop$m==non_motorise,])/n ;\n",
                "  I_agr=rbind(I_agr, probabilite_age_motorise, probabilite_age_non_motorise)\n",
                "} # fin p\n",
                "print(D_agr)\n"
            ]
        },
        {
            "cell_type": "markdown",
            "metadata": {},
            "source": [
                "### Construction des contraintes sur les probabilités des modalités croisées age et taille\n",
                "\n",
                "les autres contraintes sont construites à partir de la population synthétique en calculant les fréquences des modalités croisées entre age et taille\n"
            ]
        },
        {
            "cell_type": "code",
            "execution_count": null,
            "metadata": {},
            "outputs": [],
            "source": [
                "D_conjointe=c(); # tableau des fréquences des modalités croisés age, taille, analysabe par un humain\n",
                "M_conjointe=c() ; # matrice des contraintes sur les probabilités des modalités crisées pour la maximisaPtion de l'entropie\n",
                "I_conjointe=c() ; # contraintes sur les probabilités croisées pour la maximmisation de l'entropie, la contrainte s'écrit M_conjointe * p = I_conjoint\n",
                "motorise=M_m[1]\n",
                "non_motorise = M_m[2]\n",
                "for (p in M_a) {\n",
                "  for (q in M_t) {\n",
                "  nn=nrow(Pop[Pop$a==p & Pop$t==q,]) \n",
                "  probabilite_modalite_croise=nn/n\n",
                "  D_conjointe=rbind(D_conjointe,cbind(p,q,probabilite_modalite_croise))\n",
                "  Ligne=c();\n",
                "  for (o in M_a) {\n",
                "    for (oo in M_t){\n",
                "      for (ooo in M_m){\n",
                "        if ((o==p) & (oo==q)) {\n",
                "             Ligne=cbind(Ligne,1)\n",
                "          }\n",
                "          else {\n",
                "           Ligne=cbind(Ligne,0)\n",
                "          }\n",
                "      }# fin ooo\n",
                "    } # fin oo\n",
                "  } # fin o\n",
                "  M_conjointe=rbind(M_conjointe, Ligne)\n",
                "  I_conjointe=rbind(I_conjointe, probabilite_modalite_croise)\n",
                "} # fin q\n",
                "} # fin p\n",
                "print(D_conjointe) # vérification sur cette table est rrrectte\n"
            ]
        },
        {
            "cell_type": "markdown",
            "metadata": {},
            "source": [
                "### Aggrégation de toutes les contraintes\n",
                "\n"
            ]
        },
        {
            "cell_type": "code",
            "execution_count": null,
            "metadata": {},
            "outputs": [],
            "source": [
                "# en prenant toutes les contraintes\n",
                "Mom = rbind(matrix(rep(1,ndeg),nrow=1,ncol=ndeg), M_agr, M_conjointe)\n",
                "Eta = rbind(1,I_agr, I_conjointe)\n"
            ]
        },
        {
            "cell_type": "markdown",
            "metadata": {},
            "source": [
                "##  Résolution du problème sous la forme de la maximisation de l'entropie\n",
                "\n"
            ]
        },
        {
            "cell_type": "code",
            "execution_count": null,
            "metadata": {},
            "outputs": [],
            "source": [
                "# vérification du rang de la matrice\n",
                "A=qr(t(Mom))\n",
                "I=A$pivot[1:A$rank]\n"
            ]
        },
        {
            "cell_type": "markdown",
            "metadata": {},
            "source": [
                "\n",
                "\n"
            ]
        },
        {
            "cell_type": "code",
            "execution_count": null,
            "metadata": {},
            "outputs": [],
            "source": [
                "# vérification que le système est compatible\n",
                "library('minxent') # minimisation de l'entropie\n",
                "library(boot) # POV 14 septembre pour avoir la fonction simplexe\n",
                "M=dim(Mom[I,])\n",
                "mc=M[2] # nombre de colonne, c'est aussi le nombre de variable\n",
                "ml=M[1] \n",
                "Coef_objectif=c(rep(0,mc), rep(1,ml)) # fonction objectif\n",
                "Id=diag(rep(1,ml))\n",
                "M_equation= cbind(Mom[I,], Id)\n",
                "result=simplex(\n",
                "a=Coef_objectif,\n",
                "A3=M_equation, #contraines\n",
                "b3=Eta[I])\n",
                "#POV test du 13 octobre 2020  Mom[I,]%*%result$soln[1:264]-Eta[I]\n",
                "tol_compatibilite <- 1e-8 ; # tolérance sur la compatibilité du système (vérifier )\n",
                "if (abs(result$value)>tol_compatibilite) {\n",
                "      print(\" système incompatible\")\n",
                "      indice_contrainte_violee=which.max(result$soln[seq(mc+1,mc+ml)]) #voir la contrainte qui déconne le plus (voir dans les 16 dernières, voir ce qui déconne le plus) break ?\n",
                "      p_out=matrix(result$soln[1:ndeg],nrow=ndeg,ncol=1) # POV VERRUE comme le système est incompatible !\n",
                "     } else {\n",
                "  print(\"système compatible\")\n",
                "  p_adm=matrix(result$soln[1:ndeg],nrow=ndeg,ncol=1) \n",
                "  p_init=rep(as.double(1/ndeg), ndeg)\n",
                "p_out=tryCatch(\n",
                "        expr = {\n",
                "           Sortie=minxent.multiple(q=p_init,G=Mom[I,],eta=Eta[I],lambda=c(rep(0, length(I)-1)))  \n",
                "            p_out=Sortie$Estimates\n",
                "        },\n",
                "        error = function(e){\n",
                "            message('Erreur sur minxent.multiple (maximisation de l entropie) : optimisation sqp  ')\n",
                "            print(e)\n",
                "            return()\n",
                "        },\n",
                "        warning = function(w){\n",
                "            message('Caught an warning!')\n",
                "            print(w)\n",
                "            return(p_out)\n",
                "        },\n",
                "        finally = NULL\n",
                "    )   # fin de la gestion des erreurs de minxent.multiple \n",
                "\n",
                "} # fin si le système est compatible\n",
                "p_out=matrix(p_out,nrow=length(p_out),ncol=1)\n",
                "  \n"
            ]
        },
        {
            "cell_type": "markdown",
            "metadata": {},
            "source": [
                "# Analyse des résultats\n",
                "\n"
            ]
        },
        {
            "cell_type": "code",
            "execution_count": null,
            "metadata": {},
            "outputs": [],
            "source": [
                "k=0\n",
                "  for (o in M_a) {\n",
                "    for (oo in M_t){\n",
                "      for (ooo in M_m){\n",
                "        k=k+1\n",
                "        C[C$a==o & C$t==oo & C$m==ooo,]$r=p_out[k]\n",
                "      }# fin ooo\n",
                "    } # fin oo\n",
                "  } # fin o\n",
                "print(C)\n"
            ]
        },
        {
            "cell_type": "markdown",
            "metadata": {},
            "source": [
                "\n",
                "\n"
            ]
        },
        {
            "cell_type": "code",
            "execution_count": null,
            "metadata": {},
            "outputs": [],
            "source": [
                "sum(abs(C$p-C$r))\n",
                "\n"
            ]
        },
        {
            "cell_type": "markdown",
            "metadata": {},
            "source": [
                "\n",
                "Les probabilités prédites (r) sont relativement proches des  fréquences initiales (p)  pour les grandes fréquences  (celles qui sont supérieure à 5%). Elles peuvent être très éloignées des petites fréquences (inférieurs à 5%). L'erreur en valeur absolue est de 14% ce qui est très raisonnable compte tenu du fait que la solution initiale est la probabilité uniforme valant  0.04 (= 1/ nombre de degrés de liberté qui est égal à 24).  Cette probabilité est correctement déformé pour s'adapter aux contraintes.\n"
            ]
        }
    ],
    "metadata": {
        "anaconda-cloud": "",
        "kernelspec": {
            "display_name": "R",
            "langauge": "R",
            "name": "ir"
        },
        "language_info": {
            "codemirror_mode": "r",
            "file_extension": ".r",
            "mimetype": "text/x-r-source",
            "name": "R",
            "pygments_lexer": "r",
            "version": "3.4.1"
        }
    },
    "nbformat": 4,
    "nbformat_minor": 1
}
